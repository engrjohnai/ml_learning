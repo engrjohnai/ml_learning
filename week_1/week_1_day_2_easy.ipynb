{
 "cells": [
  {
   "cell_type": "code",
   "execution_count": 15,
   "id": "3589c95a-b260-45c6-b061-c7a2e4ff2a0c",
   "metadata": {},
   "outputs": [
    {
     "data": {
      "text/plain": [
       "'Assign values to variables:\\n\\n    Create a variable age and assign your age to it.\\n\\n    Create a variable pi and assign the value 3.14159.\\n\\n    Create a variable city and assign the name of your city.\\n\\nSimple operations:\\n\\n    Add age and pi.\\n\\n    Multiply the string city by 2. What’s the output?\\n\\nCheck variable types:\\n\\n    Use type() to check the data type of each variable: age, pi, city.\\n\\nConvert and print:\\n\\n    Convert pi to an integer.\\n\\n    Convert age to a string.\\n\\n    Print a sentence like: \"I am \" + str(age) + \" years old.\"\\n\\n'"
      ]
     },
     "execution_count": 15,
     "metadata": {},
     "output_type": "execute_result"
    }
   ],
   "source": [
    "'''Assign values to variables:\n",
    "\n",
    "    Create a variable age and assign your age to it.\n",
    "\n",
    "    Create a variable pi and assign the value 3.14159.\n",
    "\n",
    "    Create a variable city and assign the name of your city.\n",
    "\n",
    "Simple operations:\n",
    "\n",
    "    Add age and pi.\n",
    "\n",
    "    Multiply the string city by 2. What’s the output?\n",
    "\n",
    "Check variable types:\n",
    "\n",
    "    Use type() to check the data type of each variable: age, pi, city.\n",
    "\n",
    "Convert and print:\n",
    "\n",
    "    Convert pi to an integer.\n",
    "\n",
    "    Convert age to a string.\n",
    "\n",
    "    Print a sentence like: \"I am \" + str(age) + \" years old.\"\n",
    "\n",
    "'''"
   ]
  },
  {
   "cell_type": "code",
   "execution_count": 1,
   "id": "6f34a980-869f-4229-9ef3-f4200f083942",
   "metadata": {},
   "outputs": [
    {
     "name": "stdout",
     "output_type": "stream",
     "text": [
      "41.14159\n"
     ]
    }
   ],
   "source": [
    "age = 38\n",
    "pi = 3.14159\n",
    "city = \"london\"\n",
    "\n",
    "age_pi = age + pi\n",
    "print(age_pi)"
   ]
  },
  {
   "cell_type": "code",
   "execution_count": 3,
   "id": "cfbb1d1f-6d67-4776-8141-5501465f0354",
   "metadata": {},
   "outputs": [
    {
     "name": "stdout",
     "output_type": "stream",
     "text": [
      "londonlondon\n"
     ]
    }
   ],
   "source": [
    "multiply = city * 2\n",
    "print(multiply)"
   ]
  },
  {
   "cell_type": "code",
   "execution_count": 5,
   "id": "6dbe2ae6-3b59-4e1f-b2d2-de9d91e99022",
   "metadata": {},
   "outputs": [
    {
     "data": {
      "text/plain": [
       "float"
      ]
     },
     "execution_count": 5,
     "metadata": {},
     "output_type": "execute_result"
    }
   ],
   "source": [
    "type(age)\n",
    "type(pi)"
   ]
  },
  {
   "cell_type": "code",
   "execution_count": 7,
   "id": "10651877-5e2d-404e-8a77-8fa787cb3931",
   "metadata": {},
   "outputs": [
    {
     "data": {
      "text/plain": [
       "int"
      ]
     },
     "execution_count": 7,
     "metadata": {},
     "output_type": "execute_result"
    }
   ],
   "source": [
    "type(age)\n"
   ]
  },
  {
   "cell_type": "code",
   "execution_count": 9,
   "id": "b7f5b6c7-15c3-48d4-abe3-a6cc518beb30",
   "metadata": {},
   "outputs": [
    {
     "data": {
      "text/plain": [
       "str"
      ]
     },
     "execution_count": 9,
     "metadata": {},
     "output_type": "execute_result"
    }
   ],
   "source": [
    "type(city)"
   ]
  },
  {
   "cell_type": "code",
   "execution_count": 21,
   "id": "abec8580-2a8e-40a8-8526-831e57f6113d",
   "metadata": {},
   "outputs": [
    {
     "name": "stdout",
     "output_type": "stream",
     "text": [
      "3\n"
     ]
    }
   ],
   "source": [
    "pi = int(pi)\n",
    "print(pi)\n"
   ]
  },
  {
   "cell_type": "code",
   "execution_count": 25,
   "id": "70694584-39dc-4ea7-8e26-b8b3e958b25f",
   "metadata": {},
   "outputs": [
    {
     "name": "stdout",
     "output_type": "stream",
     "text": [
      "<class 'str'>\n"
     ]
    }
   ],
   "source": [
    "age = str(age)\n",
    "print(type(age))\n"
   ]
  },
  {
   "cell_type": "code",
   "execution_count": 27,
   "id": "ce5809ac-e909-4502-9f83-f394ee4541c5",
   "metadata": {},
   "outputs": [
    {
     "name": "stdout",
     "output_type": "stream",
     "text": [
      "I am 38 years old.\n"
     ]
    }
   ],
   "source": [
    "print(\"I am \" + str(age) + \" years old.\")\n"
   ]
  }
 ],
 "metadata": {
  "kernelspec": {
   "display_name": "Python [conda env:base] *",
   "language": "python",
   "name": "conda-base-py"
  },
  "language_info": {
   "codemirror_mode": {
    "name": "ipython",
    "version": 3
   },
   "file_extension": ".py",
   "mimetype": "text/x-python",
   "name": "python",
   "nbconvert_exporter": "python",
   "pygments_lexer": "ipython3",
   "version": "3.12.7"
  }
 },
 "nbformat": 4,
 "nbformat_minor": 5
}
