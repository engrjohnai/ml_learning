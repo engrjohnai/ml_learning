{
 "cells": [
  {
   "cell_type": "code",
   "execution_count": null,
   "id": "aa0e655e-9910-4cfa-9abf-f595829fcadf",
   "metadata": {},
   "outputs": [],
   "source": [
    "'''\n",
    " Intermediate Difficulty (Apply & Extend)\n",
    "\n",
    "    Mixing strings and numbers:\n",
    "\n",
    "        Let first_name = 'John' and last_name = 'Doe'.\n",
    "\n",
    "        Combine both into a full name with a space in between.\n",
    "\n",
    "    Math with variables:\n",
    "\n",
    "        Let length = 10, width = 4.\n",
    "\n",
    "        Calculate and print the area and perimeter of a rectangle.\n",
    "\n",
    "    Multiple conversions:\n",
    "\n",
    "        Let price = \"49.99\" (a string).\n",
    "\n",
    "        Convert it to a float, then to an integer. Print both.\n",
    "\n",
    "    String formatting challenge:\n",
    "\n",
    "        Let product = \"Laptop\" and cost = 799.99.\n",
    "\n",
    "        Print: “The price of a Laptop is $799.99” using f-strings.\n",
    "\n",
    "🧠 Hard Difficulty (Deeper Thinking & Combined Logic)\n",
    "\n",
    "    Dynamic typing test:\n",
    "\n",
    "        Set value = 7.5.\n",
    "\n",
    "        Convert it to int, then to str, then to float, then print all conversions in one line.\n",
    "\n",
    "    Input and type conversion (interactive - may require %input magic in Jupyter):\n",
    "\n",
    "    Ask the user to input their birth year and convert it to an integer.\n",
    "\n",
    "    Calculate their age assuming the current year is 2025.\n",
    "\n",
    "    Edge case type conversion:\n",
    "\n",
    "    What happens when you try to convert the string \"abc\" to an integer?\n",
    "\n",
    "    Handle it using try-except and print a friendly error message.\n",
    "\n",
    "    Combine everything in a mini-project:\n",
    "\n",
    "    Create a short program that:\n",
    "\n",
    "        Asks for a user’s name and age (as input).\n",
    "\n",
    "        Converts the age to int, adds 5, and tells them how old they’ll be in 5 years.\n",
    "\n",
    "        Uses type() to print the type of each variable used.\n",
    "'''"
   ]
  },
  {
   "cell_type": "code",
   "execution_count": null,
   "id": "b3d4d059-f613-407e-a8c0-2c7a6386a90d",
   "metadata": {},
   "outputs": [],
   "source": []
  }
 ],
 "metadata": {
  "kernelspec": {
   "display_name": "Python [conda env:base] *",
   "language": "python",
   "name": "conda-base-py"
  },
  "language_info": {
   "codemirror_mode": {
    "name": "ipython",
    "version": 3
   },
   "file_extension": ".py",
   "mimetype": "text/x-python",
   "name": "python",
   "nbconvert_exporter": "python",
   "pygments_lexer": "ipython3",
   "version": "3.12.7"
  }
 },
 "nbformat": 4,
 "nbformat_minor": 5
}
